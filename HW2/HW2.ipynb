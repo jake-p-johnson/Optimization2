{
  "nbformat": 4,
  "nbformat_minor": 0,
  "metadata": {
    "colab": {
      "name": "HW2.ipynb",
      "provenance": []
    },
    "kernelspec": {
      "name": "python3",
      "display_name": "Python 3"
    },
    "language_info": {
      "name": "python"
    }
  },
  "cells": [
    {
      "cell_type": "code",
      "execution_count": null,
      "metadata": {
        "id": "8VeDlMkxbqlL"
      },
      "outputs": [],
      "source": [
        "import numpy as np\n",
        "import random\n",
        "import pandas as pd\n",
        "import gurobipy as gp"
      ]
    },
    {
      "cell_type": "markdown",
      "source": [
        "# Question 1: Integer Program to Maximize Mean Return of Portfolio"
      ],
      "metadata": {
        "id": "qEN77WHom_Ri"
      }
    },
    {
      "cell_type": "code",
      "source": [
        "url = \"https://raw.githubusercontent.com/jake-p-johnson/Optimization2/main/HW2/stocks2019.csv\"\n",
        "stocks2019 = pd.read_csv(url)\n",
        "url2 = \"https://raw.githubusercontent.com/jake-p-johnson/Optimization2/main/HW2/stocks2020-1.csv\"\n",
        "stocks2020 = pd.read_csv(url2)"
      ],
      "metadata": {
        "id": "orJnBZBdm33p"
      },
      "execution_count": null,
      "outputs": []
    },
    {
      "cell_type": "code",
      "source": [
        "nstocks = stocks2019.shape[1]-2\n",
        "ndays = stocks2019.shape[0]\n",
        "ret2019 = stocks2019.iloc[1:ndays,2:nstocks+2].values - stocks2019.iloc[0:ndays-1,2:nstocks+2].values\n",
        "ret2019 = np.divide(ret2019,stocks2019.iloc[0:ndays-1,2:nstocks+2].values)\n",
        "ndays = ret2019.shape[0]"
      ],
      "metadata": {
        "id": "agT1i6QULofU"
      },
      "execution_count": null,
      "outputs": []
    },
    {
      "cell_type": "code",
      "source": [
        "ndays2020 = stocks2020.shape[0]\n",
        "ret2020 = stocks2020.iloc[1:ndays2020,2:nstocks+2].values - stocks2020.iloc[0:ndays2020-1,2:nstocks+2].values\n",
        "ret2020 = np.divide(ret2020,stocks2020.iloc[0:ndays2020-1,2:nstocks+2].values)\n",
        "ndays2020 = ret2020.shape[0]\n",
        "meanvec = np.mean(ret2019,0)"
      ],
      "metadata": {
        "id": "0Mmfc3FROWX6"
      },
      "execution_count": null,
      "outputs": []
    },
    {
      "cell_type": "code",
      "source": [
        "c = np.concatenate((meanvec,[0]*ndays))\n",
        "A = np.zeros((2+ndays,nstocks+ndays))\n",
        "b = np.zeros((2+ndays,1))"
      ],
      "metadata": {
        "id": "QcEXsfnnK-us"
      },
      "execution_count": null,
      "outputs": []
    },
    {
      "cell_type": "code",
      "source": [
        "A[0,0:nstocks]=1\n",
        "b[0] = 1\n",
        "\n",
        "#no more than 100 days negative\n",
        "A[1,nstocks:nstocks+ndays] = 1\n",
        "b[1] = 100\n",
        "\n",
        "# enforce big M constraint\n",
        "M = 10\n",
        "for day in range(1,ndays+1):\n",
        "    A[1+day,0:nstocks] = ret2019[day-1,0:nstocks]\n",
        "    A[1+day,nstocks+day-1] = M\n",
        "    b[1+day] = 0\n",
        "\n",
        "sense = np.concatenate((['='],['<'],['>']*ndays))"
      ],
      "metadata": {
        "id": "4PZ5VzJcQyH1"
      },
      "execution_count": null,
      "outputs": []
    },
    {
      "cell_type": "code",
      "source": [
        "m = gp.Model()\n",
        "mX = m.addMVar(len(c),vtype = np.concatenate((['C']*nstocks,['B']*ndays)))\n",
        "m.setMObjective(None, c, 0, sense = gp.GRB.MAXIMIZE)\n",
        "m.addMConstrs(A, mX, sense, b)\n",
        "m.Params.OutputFlag = 1\n",
        "\n",
        "#Solve the IP using gurobi \n",
        "m.optimize()"
      ],
      "metadata": {
        "colab": {
          "base_uri": "https://localhost:8080/"
        },
        "id": "8OXZKCf8LJNQ",
        "outputId": "9afcedbf-37fd-48e5-c145-1f6b44548128"
      },
      "execution_count": null,
      "outputs": [
        {
          "output_type": "stream",
          "name": "stdout",
          "text": [
            "Gurobi Optimizer version 9.5.1 build v9.5.1rc2 (linux64)\n",
            "Thread count: 1 physical cores, 2 logical processors, using up to 2 threads\n",
            "Optimize a model with 252 rows, 350 columns and 25504 nonzeros\n",
            "Model fingerprint: 0x5c0d199b\n",
            "Variable types: 100 continuous, 250 integer (250 binary)\n",
            "Coefficient statistics:\n",
            "  Matrix range     [2e-05, 1e+01]\n",
            "  Objective range  [7e-05, 4e-03]\n",
            "  Bounds range     [1e+00, 1e+00]\n",
            "  RHS range        [1e+00, 1e+02]\n",
            "Presolve removed 1 rows and 1 columns\n",
            "Presolve time: 0.09s\n",
            "Presolved: 251 rows, 349 columns, 25402 nonzeros\n",
            "Variable types: 100 continuous, 249 integer (249 binary)\n",
            "\n",
            "Root relaxation: objective 4.097099e-03, 112 iterations, 0.00 seconds (0.00 work units)\n",
            "\n",
            "    Nodes    |    Current Node    |     Objective Bounds      |     Work\n",
            " Expl Unexpl |  Obj  Depth IntInf | Incumbent    BestBd   Gap | It/Node Time\n",
            "\n",
            "     0     0    0.00410    0   18          -    0.00410      -     -    0s\n",
            "     0     0    0.00410    0   25          -    0.00410      -     -    0s\n",
            "     0     0    0.00410    0   19          -    0.00410      -     -    0s\n",
            "     0     0    0.00410    0   18          -    0.00410      -     -    0s\n",
            "     0     0    0.00410    0   18          -    0.00410      -     -    0s\n",
            "H    0     0                       0.0019331    0.00410   112%     -    0s\n",
            "     0     2    0.00410    0   18    0.00193    0.00410   112%     -    0s\n",
            "H  554   461                       0.0023406    0.00409  74.6%  10.5    1s\n",
            "H  868   536                       0.0028643    0.00407  42.1%  11.8    1s\n",
            "* 1039   577             113       0.0030403    0.00407  33.7%  12.0    1s\n",
            "* 1146   601             115       0.0030450    0.00407  33.5%  11.2    1s\n",
            "* 1165   560             117       0.0031583    0.00407  28.8%  11.2    1s\n",
            "* 1167   528             116       0.0032213    0.00407  26.2%  11.2    2s\n",
            "* 1385   543             123       0.0033207    0.00407  22.5%  10.1    2s\n",
            "* 1810   488             117       0.0034761    0.00407  17.0%   9.1    2s\n",
            "* 2345   520             114       0.0035686    0.00407  13.9%   8.1    2s\n",
            "* 2516   584             112       0.0035820    0.00407  13.5%   7.7    2s\n",
            "* 2674   484             118       0.0036628    0.00407  11.0%   7.5    2s\n",
            "* 2675   481             118       0.0036639    0.00407  11.0%   7.5    2s\n",
            "* 2676   470             117       0.0036709    0.00407  10.8%   7.5    2s\n",
            "* 3021   544             109       0.0036891    0.00406  10.0%   7.1    2s\n",
            "* 4626   988             105       0.0037399    0.00405  8.31%   6.2    3s\n",
            "  6101  1367    0.00378   74    7    0.00374    0.00403  7.62%   5.8    5s\n",
            "* 6663  1298              88       0.0037547    0.00401  6.68%   5.7    5s\n",
            "* 7265  1205              76       0.0037742    0.00400  5.88%   5.7    5s\n",
            "* 8734  1201              72       0.0037875    0.00398  4.97%   5.6    5s\n",
            "H10476  1302                       0.0038232    0.00397  3.74%   5.5    6s\n",
            "H15303  1963                       0.0038303    0.00393  2.64%   5.4    8s\n",
            " 17505  1779    0.00391   50   13    0.00383    0.00393  2.64%   5.5   10s\n",
            "*18714  1497              73       0.0038328    0.00393  2.58%   5.5   10s\n",
            "H20404   943                       0.0038442    0.00392  2.09%   5.5   12s\n",
            " 23318   407    0.00386   56    9    0.00384    0.00388  0.86%   6.0   15s\n",
            "\n",
            "Cutting planes:\n",
            "  Gomory: 24\n",
            "  MIR: 11\n",
            "  Flow cover: 27\n",
            "  RLT: 1\n",
            "  Relax-and-lift: 1\n",
            "\n",
            "Explored 24245 nodes (147763 simplex iterations) in 15.50 seconds (10.31 work units)\n",
            "Thread count was 2 (of 2 available processors)\n",
            "\n",
            "Solution count 10: 0.00384417 0.00383282 0.00383035 ... 0.00367088\n",
            "\n",
            "Optimal solution found (tolerance 1.00e-04)\n",
            "Best objective 3.844165469330e-03, best bound 3.844488829045e-03, gap 0.0084%\n"
          ]
        }
      ]
    },
    {
      "cell_type": "code",
      "source": [
        "num_neg = 0\n",
        "for day in range(1,ndays2020+1):\n",
        "    port_ret = sum(np.multiply(mX.x[0:nstocks],ret2020[day-1,0:nstocks]))\n",
        "    if(port_ret < 0):\n",
        "        num_neg = num_neg + 1\n",
        "        \n",
        "print(num_neg)"
      ],
      "metadata": {
        "colab": {
          "base_uri": "https://localhost:8080/"
        },
        "id": "mqQFs4BvVcCX",
        "outputId": "bab2d459-aaae-45a6-c4f8-8f89f0c86829"
      },
      "execution_count": null,
      "outputs": [
        {
          "output_type": "stream",
          "name": "stdout",
          "text": [
            "115\n"
          ]
        }
      ]
    },
    {
      "cell_type": "markdown",
      "source": [
        "# Question 2: Newsvendor Problem"
      ],
      "metadata": {
        "id": "-0BWpgUe08ls"
      }
    },
    {
      "cell_type": "code",
      "source": [
        "urld = \"https://raw.githubusercontent.com/jake-p-johnson/Optimization2/main/HW2/hw2_demand.csv\"\n",
        "demand = pd.read_csv(urld)\n",
        "demand.head()"
      ],
      "metadata": {
        "colab": {
          "base_uri": "https://localhost:8080/",
          "height": 206
        },
        "id": "WKv-uWOC06_-",
        "outputId": "969edc4f-c313-4de5-a590-a8dd4b6680b2"
      },
      "execution_count": null,
      "outputs": [
        {
          "output_type": "execute_result",
          "data": {
            "text/html": [
              "\n",
              "  <div id=\"df-1ef39042-5d48-4def-a30a-418d4b29d519\">\n",
              "    <div class=\"colab-df-container\">\n",
              "      <div>\n",
              "<style scoped>\n",
              "    .dataframe tbody tr th:only-of-type {\n",
              "        vertical-align: middle;\n",
              "    }\n",
              "\n",
              "    .dataframe tbody tr th {\n",
              "        vertical-align: top;\n",
              "    }\n",
              "\n",
              "    .dataframe thead th {\n",
              "        text-align: right;\n",
              "    }\n",
              "</style>\n",
              "<table border=\"1\" class=\"dataframe\">\n",
              "  <thead>\n",
              "    <tr style=\"text-align: right;\">\n",
              "      <th></th>\n",
              "      <th>X1</th>\n",
              "      <th>X2</th>\n",
              "      <th>X3</th>\n",
              "      <th>X4</th>\n",
              "      <th>X5</th>\n",
              "    </tr>\n",
              "  </thead>\n",
              "  <tbody>\n",
              "    <tr>\n",
              "      <th>0</th>\n",
              "      <td>19</td>\n",
              "      <td>1358</td>\n",
              "      <td>95</td>\n",
              "      <td>65</td>\n",
              "      <td>4994</td>\n",
              "    </tr>\n",
              "    <tr>\n",
              "      <th>1</th>\n",
              "      <td>31</td>\n",
              "      <td>734</td>\n",
              "      <td>153</td>\n",
              "      <td>106</td>\n",
              "      <td>1711</td>\n",
              "    </tr>\n",
              "    <tr>\n",
              "      <th>2</th>\n",
              "      <td>45</td>\n",
              "      <td>732</td>\n",
              "      <td>198</td>\n",
              "      <td>348</td>\n",
              "      <td>205</td>\n",
              "    </tr>\n",
              "    <tr>\n",
              "      <th>3</th>\n",
              "      <td>1</td>\n",
              "      <td>57</td>\n",
              "      <td>64</td>\n",
              "      <td>89</td>\n",
              "      <td>278</td>\n",
              "    </tr>\n",
              "    <tr>\n",
              "      <th>4</th>\n",
              "      <td>180</td>\n",
              "      <td>316</td>\n",
              "      <td>277</td>\n",
              "      <td>176</td>\n",
              "      <td>46</td>\n",
              "    </tr>\n",
              "  </tbody>\n",
              "</table>\n",
              "</div>\n",
              "      <button class=\"colab-df-convert\" onclick=\"convertToInteractive('df-1ef39042-5d48-4def-a30a-418d4b29d519')\"\n",
              "              title=\"Convert this dataframe to an interactive table.\"\n",
              "              style=\"display:none;\">\n",
              "        \n",
              "  <svg xmlns=\"http://www.w3.org/2000/svg\" height=\"24px\"viewBox=\"0 0 24 24\"\n",
              "       width=\"24px\">\n",
              "    <path d=\"M0 0h24v24H0V0z\" fill=\"none\"/>\n",
              "    <path d=\"M18.56 5.44l.94 2.06.94-2.06 2.06-.94-2.06-.94-.94-2.06-.94 2.06-2.06.94zm-11 1L8.5 8.5l.94-2.06 2.06-.94-2.06-.94L8.5 2.5l-.94 2.06-2.06.94zm10 10l.94 2.06.94-2.06 2.06-.94-2.06-.94-.94-2.06-.94 2.06-2.06.94z\"/><path d=\"M17.41 7.96l-1.37-1.37c-.4-.4-.92-.59-1.43-.59-.52 0-1.04.2-1.43.59L10.3 9.45l-7.72 7.72c-.78.78-.78 2.05 0 2.83L4 21.41c.39.39.9.59 1.41.59.51 0 1.02-.2 1.41-.59l7.78-7.78 2.81-2.81c.8-.78.8-2.07 0-2.86zM5.41 20L4 18.59l7.72-7.72 1.47 1.35L5.41 20z\"/>\n",
              "  </svg>\n",
              "      </button>\n",
              "      \n",
              "  <style>\n",
              "    .colab-df-container {\n",
              "      display:flex;\n",
              "      flex-wrap:wrap;\n",
              "      gap: 12px;\n",
              "    }\n",
              "\n",
              "    .colab-df-convert {\n",
              "      background-color: #E8F0FE;\n",
              "      border: none;\n",
              "      border-radius: 50%;\n",
              "      cursor: pointer;\n",
              "      display: none;\n",
              "      fill: #1967D2;\n",
              "      height: 32px;\n",
              "      padding: 0 0 0 0;\n",
              "      width: 32px;\n",
              "    }\n",
              "\n",
              "    .colab-df-convert:hover {\n",
              "      background-color: #E2EBFA;\n",
              "      box-shadow: 0px 1px 2px rgba(60, 64, 67, 0.3), 0px 1px 3px 1px rgba(60, 64, 67, 0.15);\n",
              "      fill: #174EA6;\n",
              "    }\n",
              "\n",
              "    [theme=dark] .colab-df-convert {\n",
              "      background-color: #3B4455;\n",
              "      fill: #D2E3FC;\n",
              "    }\n",
              "\n",
              "    [theme=dark] .colab-df-convert:hover {\n",
              "      background-color: #434B5C;\n",
              "      box-shadow: 0px 1px 3px 1px rgba(0, 0, 0, 0.15);\n",
              "      filter: drop-shadow(0px 1px 2px rgba(0, 0, 0, 0.3));\n",
              "      fill: #FFFFFF;\n",
              "    }\n",
              "  </style>\n",
              "\n",
              "      <script>\n",
              "        const buttonEl =\n",
              "          document.querySelector('#df-1ef39042-5d48-4def-a30a-418d4b29d519 button.colab-df-convert');\n",
              "        buttonEl.style.display =\n",
              "          google.colab.kernel.accessAllowed ? 'block' : 'none';\n",
              "\n",
              "        async function convertToInteractive(key) {\n",
              "          const element = document.querySelector('#df-1ef39042-5d48-4def-a30a-418d4b29d519');\n",
              "          const dataTable =\n",
              "            await google.colab.kernel.invokeFunction('convertToInteractive',\n",
              "                                                     [key], {});\n",
              "          if (!dataTable) return;\n",
              "\n",
              "          const docLinkHtml = 'Like what you see? Visit the ' +\n",
              "            '<a target=\"_blank\" href=https://colab.research.google.com/notebooks/data_table.ipynb>data table notebook</a>'\n",
              "            + ' to learn more about interactive tables.';\n",
              "          element.innerHTML = '';\n",
              "          dataTable['output_type'] = 'display_data';\n",
              "          await google.colab.output.renderOutput(dataTable, element);\n",
              "          const docLink = document.createElement('div');\n",
              "          docLink.innerHTML = docLinkHtml;\n",
              "          element.appendChild(docLink);\n",
              "        }\n",
              "      </script>\n",
              "    </div>\n",
              "  </div>\n",
              "  "
            ],
            "text/plain": [
              "    X1    X2   X3   X4    X5\n",
              "0   19  1358   95   65  4994\n",
              "1   31   734  153  106  1711\n",
              "2   45   732  198  348   205\n",
              "3    1    57   64   89   278\n",
              "4  180   316  277  176    46"
            ]
          },
          "metadata": {},
          "execution_count": 90
        }
      ]
    },
    {
      "cell_type": "code",
      "source": [
        "npap = demand.shape[1]\n",
        "nd = demand.shape[0]\n",
        "costs = np.array([0.5,0.5,0.25,0.75,0.25])\n",
        "prices = np.array([1.25,1.2,0.5,1.5,0.6])"
      ],
      "metadata": {
        "id": "gHN-cINJAThm"
      },
      "execution_count": null,
      "outputs": []
    },
    {
      "cell_type": "code",
      "source": [
        "# decision variables (q1..q5, hij)\n",
        "obj = np.concatenate(([0]*npap, [1/nd]*nd*npap))\n",
        "lb = np.concatenate(([0]*npap, [-np.inf]*nd*npap)) #quantity non negative but profit on a day can be negative\n",
        "A = np.zeros((2*nd*npap, nd*npap+npap))\n",
        "b = np.zeros((2*nd*npap,1))\n",
        "sense = np.array((['<']*2*nd*npap))"
      ],
      "metadata": {
        "id": "gu57Pv2HZBUc"
      },
      "execution_count": null,
      "outputs": []
    },
    {
      "cell_type": "code",
      "source": [
        "for news in range(1, npap+1):\n",
        "  for day in range(1, nd+1):\n",
        "    cd = day + (news-1)*nd\n",
        "    A[2*cd-1-1,news-1] = costs[news-1]\n",
        "    A[2*cd-1-1,cd+npap-1] = 1\n",
        "    b[2*cd-1-1] = prices[news-1]*demand.iloc[day-1,news-1]\n",
        "    A[2*cd-1,news-1] = costs[news-1] - prices[news-1]\n",
        "    A[2*cd-1,cd+npap-1] = 1"
      ],
      "metadata": {
        "id": "EWZVOjQ1cUdo"
      },
      "execution_count": null,
      "outputs": []
    },
    {
      "cell_type": "code",
      "source": [
        "m = gp.Model()\n",
        "mX = m.addMVar(len(obj),vtype = ['C']*len(obj),lb = lb)\n",
        "m.setMObjective(None, obj, 0, sense = gp.GRB.MAXIMIZE)\n",
        "m.addMConstrs(A, mX, sense, b)\n",
        "m.Params.OutputFlag = 1\n",
        "\n",
        "m.optimize()"
      ],
      "metadata": {
        "colab": {
          "base_uri": "https://localhost:8080/"
        },
        "id": "NoZInVRwgi7S",
        "outputId": "10b7947c-a174-488a-b2ed-260f39d80f37"
      },
      "execution_count": null,
      "outputs": [
        {
          "output_type": "stream",
          "name": "stdout",
          "text": [
            "Gurobi Optimizer version 9.5.1 build v9.5.1rc2 (linux64)\n",
            "Thread count: 1 physical cores, 2 logical processors, using up to 2 threads\n",
            "Optimize a model with 500 rows, 255 columns and 1000 nonzeros\n",
            "Model fingerprint: 0x679bc82e\n",
            "Coefficient statistics:\n",
            "  Matrix range     [2e-01, 1e+00]\n",
            "  Objective range  [2e-02, 2e-02]\n",
            "  Bounds range     [0e+00, 0e+00]\n",
            "  RHS range        [1e+00, 3e+03]\n",
            "Presolve removed 250 rows and 0 columns\n",
            "Presolve time: 0.01s\n",
            "Presolved: 250 rows, 255 columns, 500 nonzeros\n",
            "\n",
            "Iteration    Objective       Primal Inf.    Dual Inf.      Time\n",
            "       0    1.4081840e+03   7.040920e+04   0.000000e+00      0s\n",
            "     115    3.3698900e+02   0.000000e+00   0.000000e+00      0s\n",
            "\n",
            "Solved in 115 iterations and 0.02 seconds (0.00 work units)\n",
            "Optimal objective  3.369890000e+02\n"
          ]
        }
      ]
    },
    {
      "cell_type": "code",
      "source": [
        "print(mX.x[0:npap]) # how many we should produce\n",
        "print(m.objval) # expectation of profits given that many produced"
      ],
      "metadata": {
        "colab": {
          "base_uri": "https://localhost:8080/"
        },
        "id": "2AH_cM-kgwBJ",
        "outputId": "fb577038-0694-4620-966a-ff13da603844"
      },
      "execution_count": null,
      "outputs": [
        {
          "output_type": "stream",
          "name": "stdout",
          "text": [
            "[ 76. 462. 205. 123. 422.]\n",
            "336.9890000000003\n"
          ]
        }
      ]
    },
    {
      "cell_type": "markdown",
      "source": [
        "# Question 3: Simulation of Saving For Retirement"
      ],
      "metadata": {
        "id": "_1LZJXbbvsEd"
      }
    },
    {
      "cell_type": "code",
      "source": [
        "nsim = 10000\n",
        "def_vec = np.array([False]*nsim)\n",
        "port_val_vec = np.zeros(nsim)\n",
        "years_working = 3\n",
        "for sim in range(nsim):\n",
        "    value = 2000000\n",
        "    salary = 400000\n",
        "    for year in range(1,36):\n",
        "      port_return = np.random.normal(size = 1, loc = 0.07, scale = 0.1)\n",
        "      value = value*(1+port_return)\n",
        "      value = value - 150000\n",
        "      if (year <= years_working):\n",
        "        value = value + salary\n",
        "        salary = salary * (1.025)\n",
        "    \n",
        "    if value <= 0:\n",
        "      def_vec[sim] = True\n",
        "    port_val_vec[sim] = value\n",
        "\n",
        "np.mean(def_vec)"
      ],
      "metadata": {
        "colab": {
          "base_uri": "https://localhost:8080/"
        },
        "id": "xbPVdiIr4xpe",
        "outputId": "2502f8e9-09e5-40b0-c8e7-31b4e6d9cfbb"
      },
      "execution_count": null,
      "outputs": [
        {
          "output_type": "execute_result",
          "data": {
            "text/plain": [
              "0.0528"
            ]
          },
          "metadata": {},
          "execution_count": 25
        }
      ]
    },
    {
      "cell_type": "code",
      "source": [
        "port_val_vec"
      ],
      "metadata": {
        "colab": {
          "base_uri": "https://localhost:8080/"
        },
        "id": "ps0nmhM99uU_",
        "outputId": "8d72666e-3a64-41fb-fbb0-b7b41a87d1e9"
      },
      "execution_count": null,
      "outputs": [
        {
          "output_type": "execute_result",
          "data": {
            "text/plain": [
              "array([2.23458177e+16, 2.21225000e+16, 2.14045524e+16, ...,\n",
              "       2.30569709e+16, 2.31887059e+16, 2.26089803e+16])"
            ]
          },
          "metadata": {},
          "execution_count": 12
        }
      ]
    },
    {
      "cell_type": "markdown",
      "source": [
        "# Question 4: Manufacturing Simulation  \n",
        "Process1 - normrandom(mean=10, sd=3) costs 10 produce 100  \n",
        "Process2 - normrandom(mean=5, sd=2) costs 5 produce 200  \n",
        "performance < 7 low performance sell 8  \n",
        "performance > 7 high performance sell 15"
      ],
      "metadata": {
        "id": "kDCzFxPDB4Pt"
      }
    },
    {
      "cell_type": "code",
      "source": [
        "nsim = 10000\n",
        "profit_vec = [0] * nsim\n",
        "for sim in range(1, nsim+1):\n",
        "  chipsAperf = np.random.normal(size = 100, loc = 10, scale = 3) # get performance of all chips manufactured using first method\n",
        "  chipsBperf = np.random.normal(size = 200, loc = 5, scale = 2)\n",
        "  #process one\n",
        "  profitA = [0]*100\n",
        "  for i in range(100):\n",
        "    if(chipsAperf[i] >= 7):\n",
        "      profitA[i] = 15-10\n",
        "    else:\n",
        "      profitA[i] = 8-10\n",
        "  \n",
        "  #process two\n",
        "  profitB = [0]*200\n",
        "  for i in range(200):\n",
        "    if (chipsBperf[i] >= 7):\n",
        "      profitB[i] = 15-5\n",
        "    else:\n",
        "      profitB[i] = 8-5\n",
        "  \n",
        "  profit_vec[sim-1] = sum(profitA) + sum(profitB)\n",
        "\n",
        "np.quantile(profit_vec,np.array([0.25,0.975]))"
      ],
      "metadata": {
        "id": "_lThkLIIAG-Z",
        "colab": {
          "base_uri": "https://localhost:8080/"
        },
        "outputId": "e0389fef-bb3b-40a3-abe3-1915e51dd3f7"
      },
      "execution_count": null,
      "outputs": [
        {
          "output_type": "execute_result",
          "data": {
            "text/plain": [
              "array([1184., 1296.])"
            ]
          },
          "metadata": {},
          "execution_count": 16
        }
      ]
    },
    {
      "cell_type": "code",
      "source": [
        "np.std(profit_vec)"
      ],
      "metadata": {
        "colab": {
          "base_uri": "https://localhost:8080/"
        },
        "id": "dIgaQxWsM8g7",
        "outputId": "a06cb115-097b-404e-8ad0-c15c29a4dc49"
      },
      "execution_count": null,
      "outputs": [
        {
          "output_type": "execute_result",
          "data": {
            "text/plain": [
              "44.58639896997738"
            ]
          },
          "metadata": {},
          "execution_count": 17
        }
      ]
    },
    {
      "cell_type": "code",
      "source": [
        ""
      ],
      "metadata": {
        "id": "V5DeNAEAzPlK"
      },
      "execution_count": null,
      "outputs": []
    }
  ]
}