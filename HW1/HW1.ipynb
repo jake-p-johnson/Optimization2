{
  "cells": [
    {
      "cell_type": "markdown",
      "metadata": {
        "id": "BEUdrInAXm96"
      },
      "source": [
        "Jake Johnson (jpj753) \n",
        "\n",
        "# Goal: Create neural network with greater than 99% accuracy on the MNIST dataset"
      ]
    },
    {
      "cell_type": "code",
      "execution_count": null,
      "metadata": {
        "id": "-0cdpSubYvJ-"
      },
      "outputs": [],
      "source": [
        "import tensorflow as tf\n",
        "import numpy as np"
      ]
    },
    {
      "cell_type": "code",
      "execution_count": null,
      "metadata": {
        "id": "Lx2nh8V1bUpq",
        "colab": {
          "base_uri": "https://localhost:8080/"
        },
        "outputId": "ecfa3133-ac10-425b-8635-a1192283b6c4"
      },
      "outputs": [
        {
          "output_type": "stream",
          "name": "stdout",
          "text": [
            "Downloading data from https://storage.googleapis.com/tensorflow/tf-keras-datasets/mnist.npz\n",
            "11493376/11490434 [==============================] - 0s 0us/step\n",
            "11501568/11490434 [==============================] - 0s 0us/step\n"
          ]
        }
      ],
      "source": [
        "# load in mnist dataset\n",
        "mnist = tf.keras.datasets.mnist\n",
        "(x_train, y_train),(x_test, y_test) = mnist.load_data()\n",
        "x_train, x_test = x_train / 255.0, x_test / 255.0\n",
        "\n",
        "ndata_train = x_train.shape[0]\n",
        "ndata_test = x_test.shape[0]"
      ]
    },
    {
      "cell_type": "code",
      "execution_count": null,
      "metadata": {
        "id": "IrkJ5zWwbkPE"
      },
      "outputs": [],
      "source": [
        "x_train = x_train.reshape((ndata_train,28,28,1))\n",
        "x_test = x_test.reshape((ndata_test,28,28,1))\n",
        "\n",
        "\n",
        "xshape = x_train.shape[1:4]"
      ]
    },
    {
      "cell_type": "code",
      "execution_count": null,
      "metadata": {
        "id": "GpDUvoUTxamn"
      },
      "outputs": [],
      "source": [
        "NNmodel = tf.keras.models.Sequential([\n",
        "        tf.keras.layers.Conv2D(filters=30,kernel_size=(5,5),activation=tf.nn.relu,input_shape=xshape),\n",
        "        tf.keras.layers.MaxPooling2D(pool_size = (2,2),strides=2),\n",
        "        tf.keras.layers.Conv2D(filters=30,kernel_size=(5,5),activation=tf.nn.relu,input_shape=xshape),\n",
        "        tf.keras.layers.MaxPooling2D(pool_size = (2,2),strides=2),\n",
        "        tf.keras.layers.Flatten(input_shape=xshape),\n",
        "        tf.keras.layers.Dense(64,activation=tf.nn.relu),\n",
        "        tf.keras.layers.Dense(64,activation=tf.nn.relu),\n",
        "        tf.keras.layers.Dropout(0.1),\n",
        "        tf.keras.layers.Dense(64,activation=tf.nn.relu),\n",
        "        tf.keras.layers.Dense(10,activation=tf.nn.softmax)\n",
        "        ])"
      ]
    },
    {
      "cell_type": "code",
      "execution_count": null,
      "metadata": {
        "colab": {
          "base_uri": "https://localhost:8080/"
        },
        "id": "zLjgtsDFxmy4",
        "outputId": "4fc05716-d93f-4179-b439-a2f81f8b5804"
      },
      "outputs": [
        {
          "output_type": "stream",
          "name": "stdout",
          "text": [
            "Model: \"sequential_3\"\n",
            "_________________________________________________________________\n",
            " Layer (type)                Output Shape              Param #   \n",
            "=================================================================\n",
            " conv2d_6 (Conv2D)           (None, 24, 24, 30)        780       \n",
            "                                                                 \n",
            " max_pooling2d_6 (MaxPooling  (None, 12, 12, 30)       0         \n",
            " 2D)                                                             \n",
            "                                                                 \n",
            " conv2d_7 (Conv2D)           (None, 8, 8, 30)          22530     \n",
            "                                                                 \n",
            " max_pooling2d_7 (MaxPooling  (None, 4, 4, 30)         0         \n",
            " 2D)                                                             \n",
            "                                                                 \n",
            " flatten_3 (Flatten)         (None, 480)               0         \n",
            "                                                                 \n",
            " dense_12 (Dense)            (None, 64)                30784     \n",
            "                                                                 \n",
            " dense_13 (Dense)            (None, 64)                4160      \n",
            "                                                                 \n",
            " dropout_3 (Dropout)         (None, 64)                0         \n",
            "                                                                 \n",
            " dense_14 (Dense)            (None, 64)                4160      \n",
            "                                                                 \n",
            " dense_15 (Dense)            (None, 10)                650       \n",
            "                                                                 \n",
            "=================================================================\n",
            "Total params: 63,064\n",
            "Trainable params: 63,064\n",
            "Non-trainable params: 0\n",
            "_________________________________________________________________\n"
          ]
        }
      ],
      "source": [
        "NNmodel.compile(optimizer='adam',\n",
        "              loss='sparse_categorical_crossentropy',\n",
        "              metrics=['accuracy'])\n",
        "\n",
        "NNmodel.summary()"
      ]
    },
    {
      "cell_type": "code",
      "execution_count": null,
      "metadata": {
        "colab": {
          "base_uri": "https://localhost:8080/"
        },
        "id": "_DOEBN5Gxq2F",
        "outputId": "4d64a2db-a6f5-4d24-b558-7e9e6cd12e2d"
      },
      "outputs": [
        {
          "output_type": "stream",
          "name": "stdout",
          "text": [
            "Epoch 1/30\n",
            "240/240 [==============================] - 4s 12ms/step - loss: 0.4447 - accuracy: 0.8628 - val_loss: 0.1050 - val_accuracy: 0.9689\n",
            "Epoch 2/30\n",
            "240/240 [==============================] - 2s 10ms/step - loss: 0.1083 - accuracy: 0.9680 - val_loss: 0.0733 - val_accuracy: 0.9780\n",
            "Epoch 3/30\n",
            "240/240 [==============================] - 2s 10ms/step - loss: 0.0764 - accuracy: 0.9775 - val_loss: 0.0607 - val_accuracy: 0.9815\n",
            "Epoch 4/30\n",
            "240/240 [==============================] - 2s 10ms/step - loss: 0.0591 - accuracy: 0.9819 - val_loss: 0.0522 - val_accuracy: 0.9841\n",
            "Epoch 5/30\n",
            "240/240 [==============================] - 2s 10ms/step - loss: 0.0496 - accuracy: 0.9850 - val_loss: 0.0502 - val_accuracy: 0.9862\n",
            "Epoch 6/30\n",
            "240/240 [==============================] - 2s 10ms/step - loss: 0.0430 - accuracy: 0.9862 - val_loss: 0.0514 - val_accuracy: 0.9855\n",
            "Epoch 7/30\n",
            "240/240 [==============================] - 2s 10ms/step - loss: 0.0341 - accuracy: 0.9890 - val_loss: 0.0442 - val_accuracy: 0.9868\n",
            "Epoch 8/30\n",
            "240/240 [==============================] - 2s 10ms/step - loss: 0.0289 - accuracy: 0.9910 - val_loss: 0.0404 - val_accuracy: 0.9882\n",
            "Epoch 9/30\n",
            "240/240 [==============================] - 2s 10ms/step - loss: 0.0262 - accuracy: 0.9919 - val_loss: 0.0428 - val_accuracy: 0.9874\n",
            "Epoch 10/30\n",
            "240/240 [==============================] - 2s 10ms/step - loss: 0.0233 - accuracy: 0.9925 - val_loss: 0.0400 - val_accuracy: 0.9888\n",
            "Epoch 11/30\n",
            "240/240 [==============================] - 2s 10ms/step - loss: 0.0222 - accuracy: 0.9926 - val_loss: 0.0415 - val_accuracy: 0.9878\n",
            "Epoch 12/30\n",
            "240/240 [==============================] - 2s 10ms/step - loss: 0.0165 - accuracy: 0.9948 - val_loss: 0.0426 - val_accuracy: 0.9887\n",
            "Epoch 13/30\n",
            "240/240 [==============================] - 2s 10ms/step - loss: 0.0162 - accuracy: 0.9949 - val_loss: 0.0418 - val_accuracy: 0.9895\n",
            "Epoch 14/30\n",
            "240/240 [==============================] - 2s 10ms/step - loss: 0.0145 - accuracy: 0.9953 - val_loss: 0.0387 - val_accuracy: 0.9901\n",
            "Epoch 15/30\n",
            "240/240 [==============================] - 2s 10ms/step - loss: 0.0154 - accuracy: 0.9946 - val_loss: 0.0409 - val_accuracy: 0.9890\n",
            "Epoch 16/30\n",
            "240/240 [==============================] - 2s 10ms/step - loss: 0.0143 - accuracy: 0.9951 - val_loss: 0.0409 - val_accuracy: 0.9891\n",
            "Epoch 17/30\n",
            "240/240 [==============================] - 2s 10ms/step - loss: 0.0102 - accuracy: 0.9966 - val_loss: 0.0451 - val_accuracy: 0.9885\n",
            "Epoch 18/30\n",
            "240/240 [==============================] - 2s 10ms/step - loss: 0.0122 - accuracy: 0.9960 - val_loss: 0.0432 - val_accuracy: 0.9886\n",
            "Epoch 19/30\n",
            "240/240 [==============================] - 2s 10ms/step - loss: 0.0117 - accuracy: 0.9964 - val_loss: 0.0399 - val_accuracy: 0.9897\n",
            "Epoch 20/30\n",
            "240/240 [==============================] - 2s 10ms/step - loss: 0.0101 - accuracy: 0.9966 - val_loss: 0.0425 - val_accuracy: 0.9893\n",
            "Epoch 21/30\n",
            "240/240 [==============================] - 2s 10ms/step - loss: 0.0105 - accuracy: 0.9966 - val_loss: 0.0456 - val_accuracy: 0.9888\n",
            "Epoch 22/30\n",
            "240/240 [==============================] - 2s 10ms/step - loss: 0.0081 - accuracy: 0.9974 - val_loss: 0.0429 - val_accuracy: 0.9900\n",
            "Epoch 23/30\n",
            "240/240 [==============================] - 2s 10ms/step - loss: 0.0076 - accuracy: 0.9975 - val_loss: 0.0524 - val_accuracy: 0.9889\n",
            "Epoch 24/30\n",
            "240/240 [==============================] - 2s 10ms/step - loss: 0.0093 - accuracy: 0.9967 - val_loss: 0.0536 - val_accuracy: 0.9871\n",
            "Epoch 25/30\n",
            "240/240 [==============================] - 2s 10ms/step - loss: 0.0064 - accuracy: 0.9977 - val_loss: 0.0485 - val_accuracy: 0.9912\n",
            "Epoch 26/30\n",
            "240/240 [==============================] - 2s 10ms/step - loss: 0.0067 - accuracy: 0.9977 - val_loss: 0.0587 - val_accuracy: 0.9869\n",
            "Epoch 27/30\n",
            "240/240 [==============================] - 2s 10ms/step - loss: 0.0070 - accuracy: 0.9976 - val_loss: 0.0515 - val_accuracy: 0.9902\n",
            "Epoch 28/30\n",
            "240/240 [==============================] - 2s 10ms/step - loss: 0.0065 - accuracy: 0.9978 - val_loss: 0.0497 - val_accuracy: 0.9903\n",
            "Epoch 29/30\n",
            "240/240 [==============================] - 2s 10ms/step - loss: 0.0064 - accuracy: 0.9980 - val_loss: 0.0570 - val_accuracy: 0.9874\n",
            "Epoch 30/30\n",
            "240/240 [==============================] - 2s 10ms/step - loss: 0.0071 - accuracy: 0.9976 - val_loss: 0.0520 - val_accuracy: 0.9892\n"
          ]
        },
        {
          "output_type": "execute_result",
          "data": {
            "text/plain": [
              "<keras.callbacks.History at 0x7f05f4be1250>"
            ]
          },
          "metadata": {},
          "execution_count": 41
        }
      ],
      "source": [
        "NNmodel.fit(x_train,y_train,epochs=30,validation_split=0.2,batch_size=200)"
      ]
    },
    {
      "cell_type": "code",
      "execution_count": null,
      "metadata": {
        "colab": {
          "base_uri": "https://localhost:8080/"
        },
        "id": "mEc_vG2oyYDF",
        "outputId": "477af8b0-2c86-4481-f724-49afb83e7dcf"
      },
      "outputs": [
        {
          "output_type": "stream",
          "name": "stdout",
          "text": [
            "313/313 [==============================] - 2s 5ms/step - loss: 0.0386 - accuracy: 0.9912\n",
            "This model predicts 99.11999702453613% of the test data correctly\n"
          ]
        }
      ],
      "source": [
        "print('This model predicts '+str(NNmodel.evaluate(x_test,y_test)[1]*100) +'% of the test data correctly')"
      ]
    },
    {
      "cell_type": "markdown",
      "source": [
        "Train Network on Entire Training Set"
      ],
      "metadata": {
        "id": "-b4Jfoj5S3K4"
      }
    },
    {
      "cell_type": "code",
      "source": [
        "NNmodel.fit(x_train,y_train,epochs=30,batch_size=200)"
      ],
      "metadata": {
        "colab": {
          "base_uri": "https://localhost:8080/"
        },
        "id": "JWHVFtFXTY1l",
        "outputId": "2f229a8f-260f-42e3-97d4-42119bb87d26"
      },
      "execution_count": null,
      "outputs": [
        {
          "output_type": "stream",
          "name": "stdout",
          "text": [
            "Epoch 1/30\n",
            "300/300 [==============================] - 3s 10ms/step - loss: 0.0158 - accuracy: 0.9956\n",
            "Epoch 2/30\n",
            "300/300 [==============================] - 3s 9ms/step - loss: 0.0107 - accuracy: 0.9964\n",
            "Epoch 3/30\n",
            "300/300 [==============================] - 3s 9ms/step - loss: 0.0072 - accuracy: 0.9979\n",
            "Epoch 4/30\n",
            "300/300 [==============================] - 3s 9ms/step - loss: 0.0074 - accuracy: 0.9974\n",
            "Epoch 5/30\n",
            "300/300 [==============================] - 3s 9ms/step - loss: 0.0078 - accuracy: 0.9972\n",
            "Epoch 6/30\n",
            "300/300 [==============================] - 3s 9ms/step - loss: 0.0074 - accuracy: 0.9977\n",
            "Epoch 7/30\n",
            "300/300 [==============================] - 3s 9ms/step - loss: 0.0058 - accuracy: 0.9980\n",
            "Epoch 8/30\n",
            "300/300 [==============================] - 3s 9ms/step - loss: 0.0062 - accuracy: 0.9980\n",
            "Epoch 9/30\n",
            "300/300 [==============================] - 3s 9ms/step - loss: 0.0061 - accuracy: 0.9979\n",
            "Epoch 10/30\n",
            "300/300 [==============================] - 3s 9ms/step - loss: 0.0044 - accuracy: 0.9987\n",
            "Epoch 11/30\n",
            "300/300 [==============================] - 3s 9ms/step - loss: 0.0061 - accuracy: 0.9979\n",
            "Epoch 12/30\n",
            "300/300 [==============================] - 3s 9ms/step - loss: 0.0054 - accuracy: 0.9983\n",
            "Epoch 13/30\n",
            "300/300 [==============================] - 3s 9ms/step - loss: 0.0031 - accuracy: 0.9990\n",
            "Epoch 14/30\n",
            "300/300 [==============================] - 3s 9ms/step - loss: 0.0059 - accuracy: 0.9981\n",
            "Epoch 15/30\n",
            "300/300 [==============================] - 3s 9ms/step - loss: 0.0043 - accuracy: 0.9987\n",
            "Epoch 16/30\n",
            "300/300 [==============================] - 3s 9ms/step - loss: 0.0051 - accuracy: 0.9984\n",
            "Epoch 17/30\n",
            "300/300 [==============================] - 3s 9ms/step - loss: 0.0039 - accuracy: 0.9989\n",
            "Epoch 18/30\n",
            "300/300 [==============================] - 3s 9ms/step - loss: 0.0031 - accuracy: 0.9990\n",
            "Epoch 19/30\n",
            "300/300 [==============================] - 3s 9ms/step - loss: 8.7190e-04 - accuracy: 0.9998\n",
            "Epoch 20/30\n",
            "300/300 [==============================] - 3s 9ms/step - loss: 0.0023 - accuracy: 0.9991\n",
            "Epoch 21/30\n",
            "300/300 [==============================] - 3s 9ms/step - loss: 0.0051 - accuracy: 0.9985\n",
            "Epoch 22/30\n",
            "300/300 [==============================] - 3s 9ms/step - loss: 0.0079 - accuracy: 0.9976\n",
            "Epoch 23/30\n",
            "300/300 [==============================] - 3s 9ms/step - loss: 0.0033 - accuracy: 0.9990\n",
            "Epoch 24/30\n",
            "300/300 [==============================] - 3s 9ms/step - loss: 0.0018 - accuracy: 0.9994\n",
            "Epoch 25/30\n",
            "300/300 [==============================] - 3s 9ms/step - loss: 0.0056 - accuracy: 0.9982\n",
            "Epoch 26/30\n",
            "300/300 [==============================] - 3s 9ms/step - loss: 0.0036 - accuracy: 0.9991\n",
            "Epoch 27/30\n",
            "300/300 [==============================] - 3s 9ms/step - loss: 0.0033 - accuracy: 0.9990\n",
            "Epoch 28/30\n",
            "300/300 [==============================] - 3s 9ms/step - loss: 0.0028 - accuracy: 0.9991\n",
            "Epoch 29/30\n",
            "300/300 [==============================] - 3s 9ms/step - loss: 0.0016 - accuracy: 0.9995\n",
            "Epoch 30/30\n",
            "300/300 [==============================] - 3s 9ms/step - loss: 0.0044 - accuracy: 0.9989\n"
          ]
        },
        {
          "output_type": "execute_result",
          "data": {
            "text/plain": [
              "<keras.callbacks.History at 0x7f05f49dc490>"
            ]
          },
          "metadata": {},
          "execution_count": 43
        }
      ]
    },
    {
      "cell_type": "code",
      "source": [
        "print('This model predicts '+str(NNmodel.evaluate(x_test,y_test)[1]*100) +'% of the test data correctly')"
      ],
      "metadata": {
        "colab": {
          "base_uri": "https://localhost:8080/"
        },
        "id": "2fhZ2OJWz_Hp",
        "outputId": "f2a58261-3944-4197-ec64-bc4790d21d25"
      },
      "execution_count": null,
      "outputs": [
        {
          "output_type": "stream",
          "name": "stdout",
          "text": [
            "313/313 [==============================] - 1s 5ms/step - loss: 0.0408 - accuracy: 0.9923\n",
            "This model predicts 99.22999739646912% of the test data correctly\n"
          ]
        }
      ]
    },
    {
      "cell_type": "markdown",
      "source": [
        "My model perfomed with 99.223% accuracy as seen above. I started with a basic neural network with 3 dense layers with a dropout layer. The first thing I added was a convolutional layer which immediately showed improvement so I added another and another. I found that with 3 the data was thinned and there weren't enough nodes and 2 worked best. I then added another dense layer and was able to increase the accuracy again. At this point I was able to get 98.8% accuracy but struggled to get over the threshold. I messed with the epochs increasing them to 30 and got slight improvement. I then changed the regularizer thinking increasing it might help but surprisingly removing it all together got me over 99% consistently. It takes about 30secs to get this with 30 epochs and using GPU on Google Colab."
      ],
      "metadata": {
        "id": "Nes5hLauS-SR"
      }
    },
    {
      "cell_type": "markdown",
      "source": [
        "Plot a few of the numbers you misclassify from the test set. What are the common mix-ups of numbers in your network? Why do you think that is? Do you think it would ever be possible to get 100% accuracy?"
      ],
      "metadata": {
        "id": "xOR_2m0vTQKu"
      }
    },
    {
      "cell_type": "code",
      "source": [
        "pred_probs = NNmodel.predict(x_test)\n",
        "pred2 = np.argmax(pred_probs, axis=1)"
      ],
      "metadata": {
        "id": "p13bqFkxZ4vi"
      },
      "execution_count": null,
      "outputs": []
    },
    {
      "cell_type": "code",
      "source": [
        "mis_classify = []\n",
        "for i in range(len(pred2)):\n",
        "  if (pred2[i] != y_test[i]):\n",
        "    mis_classify.append(f\"{pred2[i]} - {y_test[i]}\")"
      ],
      "metadata": {
        "id": "3ktccPjTVsfq"
      },
      "execution_count": null,
      "outputs": []
    },
    {
      "cell_type": "code",
      "source": [
        "import altair as alt\n",
        "import pandas as pd"
      ],
      "metadata": {
        "id": "etj7dfvO3sZN"
      },
      "execution_count": null,
      "outputs": []
    },
    {
      "cell_type": "code",
      "source": [
        "s_mis_classify = pd.Series(mis_classify).value_counts()[:10]\n",
        "df_classify = pd.DataFrame({\"MisClassified\": s_mis_classify.index, \"Amount\": s_mis_classify})\n",
        "alt.Chart(df_classify).mark_bar().encode(\n",
        "    alt.Y(\"MisClassified\", sort=\"-x\"),\n",
        "    alt.X(\"Amount\")\n",
        ").properties(title = \"Most MisClassified Numbers\")"
      ],
      "metadata": {
        "colab": {
          "base_uri": "https://localhost:8080/",
          "height": 280
        },
        "id": "SSIJRNMAaStE",
        "outputId": "50705299-fe90-4d51-d53f-25493e4f3f55"
      },
      "execution_count": null,
      "outputs": [
        {
          "output_type": "execute_result",
          "data": {
            "text/plain": [
              "alt.Chart(...)"
            ],
            "text/html": [
              "\n",
              "<div id=\"altair-viz-01c520dae7cf4d97b75f9edab4c78c7c\"></div>\n",
              "<script type=\"text/javascript\">\n",
              "  var VEGA_DEBUG = (typeof VEGA_DEBUG == \"undefined\") ? {} : VEGA_DEBUG;\n",
              "  (function(spec, embedOpt){\n",
              "    let outputDiv = document.currentScript.previousElementSibling;\n",
              "    if (outputDiv.id !== \"altair-viz-01c520dae7cf4d97b75f9edab4c78c7c\") {\n",
              "      outputDiv = document.getElementById(\"altair-viz-01c520dae7cf4d97b75f9edab4c78c7c\");\n",
              "    }\n",
              "    const paths = {\n",
              "      \"vega\": \"https://cdn.jsdelivr.net/npm//vega@5?noext\",\n",
              "      \"vega-lib\": \"https://cdn.jsdelivr.net/npm//vega-lib?noext\",\n",
              "      \"vega-lite\": \"https://cdn.jsdelivr.net/npm//vega-lite@4.17.0?noext\",\n",
              "      \"vega-embed\": \"https://cdn.jsdelivr.net/npm//vega-embed@6?noext\",\n",
              "    };\n",
              "\n",
              "    function maybeLoadScript(lib, version) {\n",
              "      var key = `${lib.replace(\"-\", \"\")}_version`;\n",
              "      return (VEGA_DEBUG[key] == version) ?\n",
              "        Promise.resolve(paths[lib]) :\n",
              "        new Promise(function(resolve, reject) {\n",
              "          var s = document.createElement('script');\n",
              "          document.getElementsByTagName(\"head\")[0].appendChild(s);\n",
              "          s.async = true;\n",
              "          s.onload = () => {\n",
              "            VEGA_DEBUG[key] = version;\n",
              "            return resolve(paths[lib]);\n",
              "          };\n",
              "          s.onerror = () => reject(`Error loading script: ${paths[lib]}`);\n",
              "          s.src = paths[lib];\n",
              "        });\n",
              "    }\n",
              "\n",
              "    function showError(err) {\n",
              "      outputDiv.innerHTML = `<div class=\"error\" style=\"color:red;\">${err}</div>`;\n",
              "      throw err;\n",
              "    }\n",
              "\n",
              "    function displayChart(vegaEmbed) {\n",
              "      vegaEmbed(outputDiv, spec, embedOpt)\n",
              "        .catch(err => showError(`Javascript Error: ${err.message}<br>This usually means there's a typo in your chart specification. See the javascript console for the full traceback.`));\n",
              "    }\n",
              "\n",
              "    if(typeof define === \"function\" && define.amd) {\n",
              "      requirejs.config({paths});\n",
              "      require([\"vega-embed\"], displayChart, err => showError(`Error loading script: ${err.message}`));\n",
              "    } else {\n",
              "      maybeLoadScript(\"vega\", \"5\")\n",
              "        .then(() => maybeLoadScript(\"vega-lite\", \"4.17.0\"))\n",
              "        .then(() => maybeLoadScript(\"vega-embed\", \"6\"))\n",
              "        .catch(showError)\n",
              "        .then(() => displayChart(vegaEmbed));\n",
              "    }\n",
              "  })({\"config\": {\"view\": {\"continuousWidth\": 400, \"continuousHeight\": 300}}, \"data\": {\"name\": \"data-d59053e5e8b7d1562309ffe7b6f4ec76\"}, \"mark\": \"bar\", \"encoding\": {\"x\": {\"field\": \"Amount\", \"type\": \"quantitative\"}, \"y\": {\"field\": \"MisClassified\", \"sort\": \"-x\", \"type\": \"nominal\"}}, \"title\": \"Most MisClassified Numbers\", \"$schema\": \"https://vega.github.io/schema/vega-lite/v4.17.0.json\", \"datasets\": {\"data-d59053e5e8b7d1562309ffe7b6f4ec76\": [{\"MisClassified\": \"5 - 9\", \"Amount\": 7}, {\"MisClassified\": \"9 - 4\", \"Amount\": 5}, {\"MisClassified\": \"4 - 9\", \"Amount\": 5}, {\"MisClassified\": \"6 - 4\", \"Amount\": 4}, {\"MisClassified\": \"5 - 3\", \"Amount\": 3}, {\"MisClassified\": \"7 - 2\", \"Amount\": 3}, {\"MisClassified\": \"6 - 1\", \"Amount\": 3}, {\"MisClassified\": \"7 - 9\", \"Amount\": 3}, {\"MisClassified\": \"2 - 1\", \"Amount\": 3}, {\"MisClassified\": \"3 - 5\", \"Amount\": 3}]}}, {\"mode\": \"vega-lite\"});\n",
              "</script>"
            ]
          },
          "metadata": {},
          "execution_count": 48
        }
      ]
    },
    {
      "cell_type": "markdown",
      "source": [
        "My network does a bad job correctly classifying 9s in particular as it commonly classifies them as either 4 or 7 or classifies a 5 as a 9. Common mixups in my network involve numbers that have similar structure to each other. This is true for the 9s I mentioned as well as the others such as 5 and 3. I think it is possible to get very close to 100% accuracy, but not exactly 100%, with a better model and more training. There was marked improvement on the test accuracy using the entire training set even with an already high accuracy."
      ],
      "metadata": {
        "id": "Pw_i2Nw64At-"
      }
    },
    {
      "cell_type": "code",
      "source": [
        "%%shell\n",
        "jupyter nbconvert --to html /content/HW1.ipynb"
      ],
      "metadata": {
        "colab": {
          "base_uri": "https://localhost:8080/"
        },
        "id": "ChQVTLJxwDCX",
        "outputId": "43049cac-bcd5-4f43-acc5-a041d69d07de"
      },
      "execution_count": null,
      "outputs": [
        {
          "output_type": "stream",
          "name": "stdout",
          "text": [
            "[NbConvertApp] Converting notebook /content/HW1.ipynb to html\n",
            "[NbConvertApp] Writing 308537 bytes to /content/HW1.html\n"
          ]
        },
        {
          "output_type": "execute_result",
          "data": {
            "text/plain": [
              ""
            ]
          },
          "metadata": {},
          "execution_count": 1
        }
      ]
    }
  ],
  "metadata": {
    "colab": {
      "name": "HW1.ipynb",
      "provenance": []
    },
    "kernelspec": {
      "display_name": "Python 3",
      "name": "python3"
    },
    "language_info": {
      "name": "python"
    },
    "accelerator": "GPU"
  },
  "nbformat": 4,
  "nbformat_minor": 0
}